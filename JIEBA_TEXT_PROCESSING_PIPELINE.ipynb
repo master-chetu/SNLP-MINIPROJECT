{
 "cells": [
  {
   "cell_type": "markdown",
   "metadata": {},
   "source": [
    "# TASK 6 : CHINESE SEGMENTATION USING JIEBA"
   ]
  },
  {
   "cell_type": "code",
   "execution_count": 1,
   "metadata": {},
   "outputs": [
    {
     "name": "stderr",
     "output_type": "stream",
     "text": [
      "Building prefix dict from the default dictionary ...\n",
      "Dumping model to file cache C:\\Users\\maste\\AppData\\Local\\Temp\\jieba.cache\n",
      "Loading model cost 0.793 seconds.\n",
      "Prefix dict has been built successfully.\n"
     ]
    },
    {
     "name": "stdout",
     "output_type": "stream",
     "text": [
      "私 の 名 前 はガリガッタチャイタニアです\n"
     ]
    }
   ],
   "source": [
    "import jieba\n",
    "seg = jieba.cut(\"私の名前はガリガッタチャイタニアです\", cut_all = True)\n",
    "print(\" \".join(seg))"
   ]
  },
  {
   "cell_type": "markdown",
   "metadata": {},
   "source": [
    "# TASK 7 : BASIC TEXT PROCESSING PIPELINE"
   ]
  },
  {
   "cell_type": "code",
   "execution_count": 2,
   "metadata": {},
   "outputs": [
    {
     "name": "stdout",
     "output_type": "stream",
     "text": [
      "['Become', 'an', 'expert', 'in', 'NLP']\n"
     ]
    }
   ],
   "source": [
    "import nltk\n",
    "sent = 'Become an expert in NLP'\n",
    "words = nltk.word_tokenize(sent)\n",
    "print(words)"
   ]
  },
  {
   "cell_type": "code",
   "execution_count": 9,
   "metadata": {},
   "outputs": [
    {
     "name": "stdout",
     "output_type": "stream",
     "text": [
      "['Born', 'in', 'Nine', 'Mile', ',', 'British', 'Jamaica', ',', 'Marley', 'began', 'his', 'professional', 'musical', 'career', 'in', '1963', ',', 'after', 'forming', 'Bob', 'Marley', 'and', 'the', 'Wailers', '.', 'The', 'group', 'released', 'its', 'debut', 'studio', 'album', 'The', 'Wailing', 'Wailers', 'in', '1965', ',', 'which', 'contained', 'the', 'single', '``', 'One', 'Love/People', 'Get', 'Ready', \"''\", ';', 'the', 'song', 'was', 'popular', 'worldwide', ',', 'and', 'established', 'the', 'group', 'as', 'a', 'rising', 'figure', 'in', 'reggae', '.', '[', '8', ']', 'The', 'Wailers', 'subsequently', 'released', 'eleven', 'further', 'studio', 'albums', ';', 'while', 'initially', 'employing', 'louder', 'instrumentation', 'and', 'singing', ',', 'the', 'group', 'began', 'engaging', 'in', 'rhythmic-based', 'song', 'construction', 'in', 'the', 'late', '1960s', 'and', 'early', '1970s', ',', 'which', 'coincided', 'with', 'the', 'singer', \"'s\", 'conversion', 'to', 'Rastafarianism', '.', 'During', 'this', 'period', 'Marley', 'relocated', 'to', 'London', ',', 'and', 'the', 'group', 'typified', 'their', 'musical', 'shift', 'with', 'the', 'release', 'of', 'the', 'album', 'The', 'Best', 'of', 'The', 'Wailers', '(', '1971', ')', '.', '[', '9', ']', 'The', 'group', 'attained', 'international', 'success', 'after', 'the', 'release', 'of', 'the', 'albums', 'Catch', 'a', 'Fire', 'and', 'Burnin', \"'\", '(', 'both', '1973', ')', ',', 'and', 'forged', 'a', 'reputation', 'as', 'touring', 'artists', '.', 'Following', 'the', 'disbandment', 'of', 'the', 'Wailers', 'a', 'year', 'later', ',', 'Marley', 'went', 'on', 'to', 'release', 'his', 'solo', 'material', 'under', 'the', 'band', \"'s\", 'name', '.', '[', '10', ']', 'His', 'debut', 'studio', 'album', 'Natty', 'Dread', '(', '1974', ')', 'received', 'positive', 'reception', ',', 'as', 'did', 'its', 'follow-up', 'Rastaman', 'Vibration', '(', '1976', ')', '.', 'A', 'few', 'months', 'after', 'the', 'album', \"'s\", 'release', 'Marley', 'survived', 'an', 'assassination', 'attempt', 'at', 'his', 'home', 'in', 'Jamaica', ',', 'which', 'prompted', 'him', 'to', 'permanently', 'relocate', 'to', 'London', '.', 'During', 'his', 'time', 'in', 'London', 'he', 'recorded', 'the', 'album', 'Exodus', '(', '1977', ')', ';', 'it', 'incorporated', 'elements', 'of', 'blues', ',', 'soul', ',', 'and', 'British', 'rock', ',', 'enjoyed', 'widespread', 'commercial', 'and', 'critical', 'success', '.', 'In', '1977', ',', 'Marley', 'was', 'diagnosed', 'with', 'acral', 'lentiginous', 'melanoma', ';', 'he', 'died', 'as', 'a', 'result', 'of', 'the', 'illness', 'in', '1981', '.', 'His', 'fans', 'around', 'the', 'world', 'expressed', 'their', 'grief', ',', 'and', 'he', 'received', 'a', 'state', 'funeral', 'in', 'Jamaica', '.', 'The', 'greatest', 'hits', 'album', 'Legend', 'was', 'released', 'in', '1984', ',', 'and', 'became', 'the', 'best-selling', 'reggae', 'album', 'of', 'all', 'time', '.', '[', '11', ']', 'Marley', 'also', 'ranks', 'as', 'one', 'of', 'the', 'best-selling', 'music', 'artists', 'of', 'all', 'time', ',', 'with', 'estimated', 'sales', 'of', 'more', 'than', '75', 'million', 'records', 'worldwide', '.', '[', '12', ']', 'He', 'was', 'posthumously', 'honored', 'by', 'Jamaica', 'soon', 'after', 'his', 'death', 'with', 'a', 'designated', 'Order', 'of', 'Merit', 'by', 'his', 'nation', '.', 'In', '1994', ',', 'he', 'was', 'inducted', 'into', 'the', 'Rock', 'and', 'Roll', 'Hall', 'of', 'Fame', '.', 'Rolling', 'Stone', 'ranked', 'him', 'No', '.', '11', 'on', 'its', 'list', 'of', 'the', '100', 'Greatest', 'Artists', 'of', 'All', 'Time', '.']\n"
     ]
    }
   ],
   "source": [
    "texts = ''' Born in Nine Mile, British Jamaica, Marley began his professional musical career in 1963, after forming Bob Marley and the Wailers. The group released its debut studio album The Wailing Wailers in 1965, which contained the single \"One Love/People Get Ready\"; the song was popular worldwide, and established the group as a rising figure in reggae.[8] The Wailers subsequently released eleven further studio albums; while initially employing louder instrumentation and singing, the group began engaging in rhythmic-based song construction in the late 1960s and early 1970s, which coincided with the singer's conversion to Rastafarianism. During this period Marley relocated to London, and the group typified their musical shift with the release of the album The Best of The Wailers (1971).[9]\n",
    "The group attained international success after the release of the albums Catch a Fire and Burnin' (both 1973), and forged a reputation as touring artists. Following the disbandment of the Wailers a year later, Marley went on to release his solo material under the band's name.[10] His debut studio album Natty Dread (1974) received positive reception, as did its follow-up Rastaman Vibration (1976). A few months after the album's release Marley survived an assassination attempt at his home in Jamaica, which prompted him to permanently relocate to London. During his time in London he recorded the album Exodus (1977); it incorporated elements of blues, soul, and British rock, enjoyed widespread commercial and critical success.\n",
    "In 1977, Marley was diagnosed with acral lentiginous melanoma; he died as a result of the illness in 1981. His fans around the world expressed their grief, and he received a state funeral in Jamaica. The greatest hits album Legend was released in 1984, and became the best-selling reggae album of all time.[11] Marley also ranks as one of the best-selling music artists of all time, with estimated sales of more than 75 million records worldwide.[12] He was posthumously honored by Jamaica soon after his death with a designated Order of Merit by his nation. In 1994, he was inducted into the Rock and Roll Hall of Fame. Rolling Stone ranked him No. 11 on its list of the 100 Greatest Artists of All Time.'''\n",
    "\n",
    "\n",
    "word = nltk.word_tokenize(texts)\n",
    "print(word)"
   ]
  },
  {
   "cell_type": "code",
   "execution_count": 7,
   "metadata": {},
   "outputs": [
    {
     "name": "stdout",
     "output_type": "stream",
     "text": [
      "[('11', 'CD'), ('on', 'IN'), ('its', 'PRP$'), ('list', 'NN'), ('of', 'IN'), ('the', 'DT'), ('100', 'CD'), ('Greatest', 'JJS'), ('Artists', 'NNS'), ('of', 'IN'), ('All', 'DT'), ('Time', 'NNP'), ('.', '.')]\n"
     ]
    }
   ],
   "source": [
    "tagged = nltk.pos_tag(word)\n",
    "print(tagged)"
   ]
  },
  {
   "cell_type": "code",
   "execution_count": null,
   "metadata": {},
   "outputs": [],
   "source": []
  }
 ],
 "metadata": {
  "kernelspec": {
   "display_name": "Python 3",
   "language": "python",
   "name": "python3"
  },
  "language_info": {
   "codemirror_mode": {
    "name": "ipython",
    "version": 3
   },
   "file_extension": ".py",
   "mimetype": "text/x-python",
   "name": "python",
   "nbconvert_exporter": "python",
   "pygments_lexer": "ipython3",
   "version": "3.7.4"
  }
 },
 "nbformat": 4,
 "nbformat_minor": 2
}
