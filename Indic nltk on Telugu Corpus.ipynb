{
 "cells": [
  {
   "cell_type": "code",
   "execution_count": 16,
   "metadata": {},
   "outputs": [],
   "source": [
    "from indicnlp.tokenize import sentence_tokenize"
   ]
  },
  {
   "cell_type": "code",
   "execution_count": 15,
   "metadata": {},
   "outputs": [
    {
     "name": "stdout",
     "output_type": "stream",
     "text": [
      "పిల్లలికి కథలంటే ఎంతో ఇష్టం.\n",
      "కథలు వింటూ ఊహాలోకంలో విహరిస్తారు.\n",
      "కథలో అంతర్గతంగా నీతి దాగి ఉంటుంది.\n",
      "విన్న కథనే ఎంతో ఆసక్తితో వినటం వలన అందులోని నీతి వారి మనస్సును హత్తుకు పోయే అవకాశం ఎక్కువే.\n",
      "మామ్ జంక్షన్ మీ కోసం ఆసక్తి కరమైన తెలుగు చిన్న కథలని, స్నేహం గురించి నీతి కథలని సమీకరించి, మీ పిల్లలకి కథలు చెప్పాలన్నప్పుడు వీలుగా మీకు ఇక్కడ అందజేస్తున్నది.\n",
      "।\n"
     ]
    }
   ],
   "source": [
    "indic_string=\"\"\"పిల్లలికి కథలంటే ఎంతో ఇష్టం. కథలు వింటూ ఊహాలోకంలో విహరిస్తారు. కథలో అంతర్గతంగా నీతి దాగి ఉంటుంది. విన్న కథనే ఎంతో ఆసక్తితో వినటం వలన అందులోని నీతి వారి మనస్సును హత్తుకు పోయే అవకాశం ఎక్కువే.\n",
    "మామ్ జంక్షన్ మీ కోసం ఆసక్తి కరమైన తెలుగు చిన్న కథలని, స్నేహం గురించి నీతి కథలని సమీకరించి, మీ పిల్లలకి కథలు చెప్పాలన్నప్పుడు వీలుగా మీకు ఇక్కడ అందజేస్తున్నది.।\"\"\"\n",
    "\n",
    "# Split the sentence, language code \"tel\" is passed for telugu\n",
    "sentences=sentence_tokenize.sentence_split(indic_string, lang='tel')\n",
    "\n",
    "# print the sentences\n",
    "for t in sentences:\n",
    "    print(t)\n"
   ]
  },
  {
   "cell_type": "code",
   "execution_count": 5,
   "metadata": {},
   "outputs": [
    {
     "name": "stdout",
     "output_type": "stream",
     "text": [
      "पिल्ललिकि कथलंटे ऎंतो इष्टं. कथलु विंटू ऊहालोकंलो विहरिस्तारु. कथलो अंतर्गतंगा नीति दागि उंटुंदि. विन्न कथने ऎंतो आसक्तितो विनटं वलन अंदुलोनि नीति वारि मनस्सुनु हत्तुकु पोये अवकाशं ऎक्कुवे.\n",
      "माम् जंक्षन् मी कोसं आसक्ति करमैन तॆलुगु चिन्न कथलनि, स्नेहं गुरिंचि नीति कथलनि समीकरिंचि, मी पिल्ललकि कथलु चॆप्पालन्नप्पुडु वीलुगा मीकु इक्कड अंदजेस्तुन्नदि.।\n"
     ]
    }
   ],
   "source": [
    "from indicnlp.transliterate.unicode_transliterate import UnicodeIndicTransliterator\n",
    "\n",
    "# Transliterate from Telugu to hindi\n",
    "print(UnicodeIndicTransliterator.transliterate(indic_string,\"te\",\"hi\"))"
   ]
  },
  {
   "cell_type": "code",
   "execution_count": 17,
   "metadata": {},
   "outputs": [
    {
     "name": "stdout",
     "output_type": "stream",
     "text": [
      "పిల్లలికి కథలంటే ఎంతో ఇష్టం. కథలు వింటూ ఊహాలోకంలో విహరిస్తారు. కథలో అంతర్గతంగా నీతి దాగి ఉంటుంది. విన్న కథనే ఎంతో ఆసక్తితో వినటం వలన అందులోని నీతి వారి మనస్సును హత్తుకు పోయే అవకాశం ఎక్కువే.\n",
      "మామ్ జంక్షన్ మీ కోసం ఆసక్తి కరమైన తెలుగు చిన్న కథలని, స్నేహం గురించి నీతి కథలని సమీకరించి, మీ పిల్లలకి కథలు చెప్పాలన్నప్పుడు వీలుగా మీకు ఇక్కడ అందజేస్తున్నది.।\n"
     ]
    }
   ],
   "source": [
    "from indicnlp.transliterate.unicode_transliterate import ItransTransliterator\n",
    "\n",
    "print(ItransTransliterator.to_itrans(indic_string, 'ta'))"
   ]
  },
  {
   "cell_type": "code",
   "execution_count": 10,
   "metadata": {},
   "outputs": [
    {
     "name": "stdout",
     "output_type": "stream",
     "text": [
      "Is vowel?:  True\n",
      "Is consonant?:  False\n",
      "Is velar?:  False\n",
      "Is palatal?:  False\n",
      "Is aspirated?:  False\n",
      "Is unvoiced?:  False\n",
      "Is nasal?:  False\n"
     ]
    }
   ],
   "source": [
    "from indicnlp.langinfo import *\n",
    "\n",
    "# Input character \n",
    "c='అ'\n",
    "# Language is Telugu or 'te'\n",
    "lang='te'\n",
    "\n",
    "print('Is vowel?:  {}'.format(is_vowel(c,lang)))\n",
    "print('Is consonant?:  {}'.format(is_consonant(c,lang)))\n",
    "print('Is velar?:  {}'.format(is_velar(c,lang)))\n",
    "print('Is palatal?:  {}'.format(is_palatal(c,lang)))\n",
    "print('Is aspirated?:  {}'.format(is_aspirated(c,lang)))\n",
    "print('Is unvoiced?:  {}'.format(is_unvoiced(c,lang)))\n",
    "print('Is nasal?:  {}'.format(is_nasal(c,lang)))"
   ]
  },
  {
   "cell_type": "code",
   "execution_count": null,
   "metadata": {},
   "outputs": [],
   "source": []
  },
  {
   "cell_type": "code",
   "execution_count": null,
   "metadata": {},
   "outputs": [],
   "source": []
  }
 ],
 "metadata": {
  "kernelspec": {
   "display_name": "Python 3",
   "language": "python",
   "name": "python3"
  },
  "language_info": {
   "codemirror_mode": {
    "name": "ipython",
    "version": 3
   },
   "file_extension": ".py",
   "mimetype": "text/x-python",
   "name": "python",
   "nbconvert_exporter": "python",
   "pygments_lexer": "ipython3",
   "version": "3.7.4"
  }
 },
 "nbformat": 4,
 "nbformat_minor": 2
}
