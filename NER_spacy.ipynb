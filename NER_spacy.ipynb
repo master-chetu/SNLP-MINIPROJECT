{
 "cells": [
  {
   "cell_type": "code",
   "execution_count": 5,
   "metadata": {},
   "outputs": [],
   "source": [
    "import spacy\n",
    "import en_core_web_sm\n",
    "nlp = en_core_web_sm.load()\n"
   ]
  },
  {
   "cell_type": "code",
   "execution_count": 7,
   "metadata": {},
   "outputs": [],
   "source": [
    "example = \"Google, a company founded by Larry Page and Sergey Brin in the United States of America \"\\\n",
    "+ \"has one of the world’s most advanced search engines.\"\n",
    "\n"
   ]
  },
  {
   "cell_type": "code",
   "execution_count": 8,
   "metadata": {},
   "outputs": [
    {
     "name": "stdout",
     "output_type": "stream",
     "text": [
      "Google ORG\n",
      "Larry Page PERSON\n",
      "Sergey Brin PERSON\n",
      "the United States of America GPE\n",
      "one CARDINAL\n"
     ]
    }
   ],
   "source": [
    "doc = nlp(example)\n",
    "for ent in doc.ents:\n",
    "    print(ent.text, ent.label_)"
   ]
  },
  {
   "cell_type": "code",
   "execution_count": 16,
   "metadata": {},
   "outputs": [
    {
     "name": "stdout",
     "output_type": "stream",
     "text": [
      "ORG :-  ['Taliban', 'the Afghan Taliban', 'Nedan Singh', 'Taliban', 'Taliban', 'Taliban']\n",
      "GPE :-  ['Paktia province', 'Afghanistan', 'Paktia', 'Afghanistan', 'Kabul', 'Chamkani', 'Afghanistan', 'India', 'Delhi', 'Afghanistan', 'Afghanistan', 'Afghanistan']\n",
      "PERSON :- ['Sikh', 'Suhail Shaheen', 'Singh', 'Shaheen', 'Singh', 'Paktia', 'Guru Nanak', 'Nedan Singh']\n",
      "OTHERS:-  ['Taliban', 'Paktia province', 'Afghanistan', 'the Afghan Taliban', 'Thursday', 'three days', 'Nedan Singh', 'Chamkani', 'Paktia', 'second', 'recent months', 'Taliban', 'Hindu', 'Afghanistan', 'Taliban', 'Taliban', 'Islamic', 'March 25', 'Gurdwara', 'Kabul', 'at least 25', 'June 22', 'Chamkani', 'the Sri Guru Nanak Sahib Gurdwara', 'Afghanistan', 'the 15th century', 'India', 'Delhi', 'Afghanistan', 'Afghanistan', 'Afghanistan']\n"
     ]
    }
   ],
   "source": [
    "text = \"\"\"he Taliban was not involved in the kidnapping of a leader of the Sikh community who was abducted by unknown persons in Paktia province of Afghanistan and his abductors would face justice from the group, the Afghan Taliban said on Thursday.\n",
    "The statement from the outfit came three days after Nedan Singh was kidnapped in Chamkani district of Paktia in the second such incident in recent months.\n",
    "As a policy, we don’t kidnap any one, nor have we kidnapped this gentleman. Our goal is clear, that is putting an end to the [foreign] occupation. No question, if we find his kidnappers, we will send them to our courts to punish them as per the law,” Suhail Shaheen, spokesman of the political office of the Taliban, said in a message to The Hindu.\n",
    "The statement is aimed at putting to rest speculations about the group’s involvement in the incident. The relatives of Mr. Singh had received phone calls from Afghanistan and the callers claimed that they were part of the Taliban. But Mr. Shaheen said the kidnappers were not part of the group and had committed a crime.\n",
    "\n",
    "The spokesman had earlier said the Taliban remained “committed to minority rights” and blamed the Islamic State fighters for the March 25 attack on a Gurdwara in Kabul which left at least 25 persons dead.\n",
    "\n",
    "Mr. Singh went missing on June 22 from Chamkani, Paktia, where he was a regular visitor as the caretaker of the Sri Guru Nanak Sahib Gurdwara which is considered special because of historic and religious reasons. It is believed that the founder of Sikhism, Guru Nanak, had visited the region during his tour of Afghanistan in the 15th century.\n",
    "\n",
    "India had described the incident as a “matter of grave concern”, saying Delhi was in contact with the government of Afghanistan to ensure “safety, security and well-being of the minority community in Afghanistan. We believe the government of Afghanistan would be able to secure safe and early release of Mr. Nedan Singh”.\"\"\"\n",
    "doc = nlp(text)\n",
    "org = []\n",
    "person=[]\n",
    "gpe=[]\n",
    "others = []\n",
    "for ent in doc.ents:\n",
    "    if ent.label_ == \"ORG\":\n",
    "        org.append(ent.text)\n",
    "    if ent.label_ == \"GPE\":\n",
    "        gpe.append(ent.text)\n",
    "    if ent.label_ == \"PERSON\":\n",
    "        person.append(ent.text)\n",
    "    else:\n",
    "        others.append(ent.text)\n",
    "print(\"ORG :- \",org)\n",
    "print(\"GPE :- \",gpe)\n",
    "print(\"PERSON :-\", person)\n",
    "print(\"OTHERS:- \",others)"
   ]
  },
  {
   "cell_type": "code",
   "execution_count": null,
   "metadata": {},
   "outputs": [],
   "source": []
  }
 ],
 "metadata": {
  "kernelspec": {
   "display_name": "Python 3",
   "language": "python",
   "name": "python3"
  },
  "language_info": {
   "codemirror_mode": {
    "name": "ipython",
    "version": 3
   },
   "file_extension": ".py",
   "mimetype": "text/x-python",
   "name": "python",
   "nbconvert_exporter": "python",
   "pygments_lexer": "ipython3",
   "version": "3.7.4"
  }
 },
 "nbformat": 4,
 "nbformat_minor": 2
}
