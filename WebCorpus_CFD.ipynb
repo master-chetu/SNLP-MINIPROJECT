{
 "cells": [
  {
   "cell_type": "markdown",
   "metadata": {},
   "source": [
    "# Task 4 : Importing Webtext corpus and access data"
   ]
  },
  {
   "cell_type": "code",
   "execution_count": 3,
   "metadata": {},
   "outputs": [
    {
     "name": "stdout",
     "output_type": "stream",
     "text": [
      "firefox.txt Cookie Manager: \"Don't allow sites that set remove\n",
      "grail.txt SCENE 1: [wind] [clop clop clop] \n",
      "KING ARTHUR: Who\n",
      "overheard.txt White guy: So, do you have any plans for this even\n",
      "pirates.txt PIRATES OF THE CARRIBEAN: DEAD MAN'S CHEST, by Ted\n",
      "singles.txt 25 SEXY MALE, seeks attrac older single lady, for \n",
      "wine.txt Lovely delicate, fragrant Rhone wine. Polished lea\n"
     ]
    }
   ],
   "source": [
    "from nltk.corpus import webtext\n",
    "webtext.fileids()\n",
    "\n",
    "for fileid in webtext.fileids():\n",
    "    print(fileid, webtext.raw(fileid)[:50])\n"
   ]
  },
  {
   "cell_type": "code",
   "execution_count": 3,
   "metadata": {},
   "outputs": [],
   "source": [
    " #Task 5: Frequency Distribution of words in text\n",
    "import nltk\n",
    "sampletext =''' Born in Nine Mile, British Jamaica, Marley began his professional musical career in 1963, after forming Bob Marley and the Wailers. The group released its debut studio album The Wailing Wailers in 1965, which contained the single \"One Love/People Get Ready\"; the song was popular worldwide, and established the group as a rising figure in reggae.[8] The Wailers subsequently released eleven further studio albums; while initially employing louder instrumentation and singing, the group began engaging in rhythmic-based song construction in the late 1960s and early 1970s, which coincided with the singer's conversion to Rastafarianism. During this period Marley relocated to London, and the group typified their musical shift with the release of the album The Best of The Wailers (1971).[9]\n",
    "The group attained international success after the release of the albums Catch a Fire and Burnin' (both 1973), and forged a reputation as touring artists. Following the disbandment of the Wailers a year later, Marley went on to release his solo material under the band's name.[10] His debut studio album Natty Dread (1974) received positive reception, as did its follow-up Rastaman Vibration (1976). A few months after the album's release Marley survived an assassination attempt at his home in Jamaica, which prompted him to permanently relocate to London. During his time in London he recorded the album Exodus (1977); it incorporated elements of blues, soul, and British rock, enjoyed widespread commercial and critical success.\n",
    "In 1977, Marley was diagnosed with acral lentiginous melanoma; he died as a result of the illness in 1981. His fans around the world expressed their grief, and he received a state funeral in Jamaica. The greatest hits album Legend was released in 1984, and became the best-selling reggae album of all time.[11] Marley also ranks as one of the best-selling music artists of all time, with estimated sales of more than 75 million records worldwide.[12] He was posthumously honored by Jamaica soon after his death with a designated Order of Merit by his nation. In 1994, he was inducted into the Rock and Roll Hall of Fame. Rolling Stone ranked him No. 11 on its list of the 100 Greatest Artists of All Time.'''\n",
    "fd = nltk.FreqDist(sampletext.split())"
   ]
  },
  {
   "cell_type": "code",
   "execution_count": 4,
   "metadata": {},
   "outputs": [
    {
     "data": {
      "text/plain": [
       "FreqDist({'the': 23, 'of': 14, 'and': 12, 'in': 11, 'Marley': 7, 'The': 7, 'a': 7, 'his': 6, 'album': 6, 'group': 5, ...})"
      ]
     },
     "execution_count": 4,
     "metadata": {},
     "output_type": "execute_result"
    }
   ],
   "source": [
    "fd"
   ]
  },
  {
   "cell_type": "markdown",
   "metadata": {},
   "source": [
    "# Task 6. Conditional Frequency Distribution of words in a text"
   ]
  },
  {
   "cell_type": "code",
   "execution_count": 5,
   "metadata": {},
   "outputs": [
    {
     "data": {
      "text/plain": [
       "FreqDist({'Love/People': 1, 'established': 1, 'disbandment': 1, 'permanently': 1, 'lentiginous': 1})"
      ]
     },
     "execution_count": 5,
     "metadata": {},
     "output_type": "execute_result"
    }
   ],
   "source": [
    "from nltk.probability import ConditionalFreqDist\n",
    "cfd = ConditionalFreqDist((len(word),word) for word in sampletext.split())\n",
    "cfd[11]"
   ]
  },
  {
   "cell_type": "code",
   "execution_count": 6,
   "metadata": {},
   "outputs": [
    {
     "data": {
      "text/plain": [
       "FreqDist({'released': 3, 'Jamaica,': 2, 'received': 2, 'Wailers.': 1, 'singing,': 1, 'engaging': 1, \"singer's\": 1, 'typified': 1, 'attained': 1, 'artists.': 1, ...})"
      ]
     },
     "execution_count": 6,
     "metadata": {},
     "output_type": "execute_result"
    }
   ],
   "source": [
    "cfd = ConditionalFreqDist((len(word),word) for word in sampletext.split())\n",
    "cfd[8]"
   ]
  },
  {
   "cell_type": "markdown",
   "metadata": {},
   "source": [
    "\n",
    "# HOMEWORK PROBLEM"
   ]
  },
  {
   "cell_type": "code",
   "execution_count": 9,
   "metadata": {},
   "outputs": [
    {
     "data": {
      "text/plain": [
       "FreqDist({'that': 57, 'will': 25, 'this': 23, 'with': 20, 'have': 20, 'from': 16, 'such': 15, 'upon': 15, 'them': 13, 'than': 13, ...})"
      ]
     },
     "execution_count": 9,
     "metadata": {},
     "output_type": "execute_result"
    }
   ],
   "source": [
    "from nltk.corpus import inaugural\n",
    "speech = inaugural.words(fileids = '1861-Lincoln.txt')\n",
    "cdf = ConditionalFreqDist((len(word), word) for word in speech)\n",
    "cdf[4]"
   ]
  },
  {
   "cell_type": "code",
   "execution_count": 10,
   "metadata": {},
   "outputs": [
    {
     "data": {
      "text/plain": [
       "FreqDist({'Union': 19, 'which': 18, 'shall': 16, 'there': 14, 'their': 14, 'right': 11, 'while': 10, 'other': 10, 'would': 10, 'State': 8, ...})"
      ]
     },
     "execution_count": 10,
     "metadata": {},
     "output_type": "execute_result"
    }
   ],
   "source": [
    "cdf[5]"
   ]
  },
  {
   "cell_type": "code",
   "execution_count": 11,
   "metadata": {},
   "outputs": [
    {
     "data": {
      "text/plain": [
       "FreqDist({'people': 20, 'States': 19, 'itself': 7, 'before': 6, 'should': 6, 'either': 6, 'United': 5, 'clause': 5, 'object': 5, 'proper': 4, ...})"
      ]
     },
     "execution_count": 11,
     "metadata": {},
     "output_type": "execute_result"
    }
   ],
   "source": [
    "cdf[6]"
   ]
  },
  {
   "cell_type": "code",
   "execution_count": 12,
   "metadata": {},
   "outputs": [],
   "source": [
    "speech1 = []\n",
    "for words in speech:\n",
    "    if len(words)>4:\n",
    "        speech1.append(words)"
   ]
  },
  {
   "cell_type": "code",
   "execution_count": 14,
   "metadata": {},
   "outputs": [
    {
     "data": {
      "text/plain": [
       "FreqDist({'Constitution': 24, 'people': 20, 'States': 19, 'Union': 19, 'which': 18, 'Government': 16, 'shall': 16, 'there': 14, 'their': 14, 'right': 11, ...})"
      ]
     },
     "execution_count": 14,
     "metadata": {},
     "output_type": "execute_result"
    }
   ],
   "source": [
    "fd = nltk.FreqDist(speech1)\n",
    "fd"
   ]
  },
  {
   "cell_type": "code",
   "execution_count": 15,
   "metadata": {},
   "outputs": [
    {
     "name": "stdout",
     "output_type": "stream",
     "text": [
      "Most Used used word : ('Constitution', 24)\n"
     ]
    }
   ],
   "source": [
    "sorted_fd = sorted(fd.items(), key = lambda x:x[1])\n",
    "fw = list(sorted_fd)[len(sorted_fd)-1]\n",
    "print(\"Most Used used word :\",fw)"
   ]
  },
  {
   "cell_type": "code",
   "execution_count": null,
   "metadata": {},
   "outputs": [],
   "source": []
  }
 ],
 "metadata": {
  "kernelspec": {
   "display_name": "Python 3",
   "language": "python",
   "name": "python3"
  },
  "language_info": {
   "codemirror_mode": {
    "name": "ipython",
    "version": 3
   },
   "file_extension": ".py",
   "mimetype": "text/x-python",
   "name": "python",
   "nbconvert_exporter": "python",
   "pygments_lexer": "ipython3",
   "version": "3.7.4"
  }
 },
 "nbformat": 4,
 "nbformat_minor": 2
}
