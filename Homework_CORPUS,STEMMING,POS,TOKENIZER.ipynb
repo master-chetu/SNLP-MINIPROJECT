{
 "cells": [
  {
   "cell_type": "markdown",
   "metadata": {},
   "source": [
    "# Homework Problem\n",
    "•Extract a text from corpus\n",
    "•Tokensizethe words\n",
    "•POS_tagging?\n",
    "•Determine the stems in those words"
   ]
  },
  {
   "cell_type": "code",
   "execution_count": 1,
   "metadata": {},
   "outputs": [
    {
     "name": "stdout",
     "output_type": "stream",
     "text": [
      "length of corpus text :  564601\n",
      "\n",
      "Content: \n",
      " ['Cookie', 'Manager', ':', '``', 'Do', \"n't\", 'allow', 'sites', 'that', 'set', 'removed', 'cookies', 'to', 'set', 'future', 'cookies', \"''\", 'should', 'stay', 'checked']\n",
      "\n",
      " POS :\n",
      " [('Cookie', 'NNP'), ('Manager', 'NNP'), (':', ':'), ('``', '``'), ('Do', 'VBP'), (\"n't\", 'RB'), ('allow', 'VB'), ('sites', 'NNS'), ('that', 'WDT'), ('set', 'VBP'), ('removed', 'VBN'), ('cookies', 'NNS'), ('to', 'TO'), ('set', 'VB'), ('future', 'JJ'), ('cookies', 'NNS'), (\"''\", \"''\"), ('should', 'MD'), ('stay', 'VB'), ('checked', 'VBD')]\n",
      "\n",
      "Stemming :\n",
      "cooky\n",
      "man\n",
      ":\n",
      "``\n",
      "do\n",
      "n't\n",
      "allow\n",
      "sit\n",
      "that\n",
      "set\n",
      "remov\n",
      "cooky\n",
      "to\n",
      "set\n",
      "fut\n",
      "cooky\n",
      "''\n",
      "should\n",
      "stay\n",
      "check\n",
      "when\n",
      "in\n",
      "ful\n",
      "screen\n",
      "mod\n",
      "press\n",
      "ctrl-n\n",
      "should\n",
      "op\n",
      "a\n"
     ]
    }
   ],
   "source": [
    "import nltk\n",
    "from nltk.corpus import webtext\n",
    "from nltk.stem import LancasterStemmer\n",
    "\n",
    "content = webtext.raw(webtext.fileids()[0])[:] # Fetching the Firefox.txt webtext\n",
    "print(\"length of corpus text : \",len(content))\n",
    "\n",
    "words = nltk.word_tokenize(content)\n",
    "print(\"\\nContent: \\n\",words[:20]) # Webtext need to be word tokenize\n",
    "\n",
    "tagged = nltk.pos_tag(words)\n",
    "print(\"\\n POS :\\n\",tagged[:20]) # POS_Tagging of words\n",
    "\n",
    "stemmerLan = LancasterStemmer()\n",
    "print(\"\\nStemming :\")\n",
    "for word in words[:30]:\n",
    "    stemm = stemmerLan.stem(word) #finding Stem for each words\n",
    "    print(stemm)"
   ]
  },
  {
   "cell_type": "code",
   "execution_count": 9,
   "metadata": {},
   "outputs": [
    {
     "data": {
      "text/plain": [
       "'firefox.txt'"
      ]
     },
     "execution_count": 9,
     "metadata": {},
     "output_type": "execute_result"
    }
   ],
   "source": [
    "webtext.fileids()[0]"
   ]
  },
  {
   "cell_type": "code",
   "execution_count": 10,
   "metadata": {},
   "outputs": [],
   "source": [
    "content = webtext.raw(webtext.fileids()[0])[:] # Fetching the Firefox.txt webtext"
   ]
  },
  {
   "cell_type": "code",
   "execution_count": 11,
   "metadata": {},
   "outputs": [
    {
     "data": {
      "text/plain": [
       "564601"
      ]
     },
     "execution_count": 11,
     "metadata": {},
     "output_type": "execute_result"
    }
   ],
   "source": [
    "len(content)"
   ]
  }
 ],
 "metadata": {
  "kernelspec": {
   "display_name": "Python 3",
   "language": "python",
   "name": "python3"
  },
  "language_info": {
   "codemirror_mode": {
    "name": "ipython",
    "version": 3
   },
   "file_extension": ".py",
   "mimetype": "text/x-python",
   "name": "python",
   "nbconvert_exporter": "python",
   "pygments_lexer": "ipython3",
   "version": "3.7.4"
  }
 },
 "nbformat": 4,
 "nbformat_minor": 2
}
